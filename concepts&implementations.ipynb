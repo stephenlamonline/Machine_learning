{
 "cells": [
  {
   "cell_type": "markdown",
   "id": "f41eefc2-0cce-471a-9274-c447603b7ffe",
   "metadata": {},
   "source": [
    "# Linear Regression via Gradient descent"
   ]
  },
  {
   "cell_type": "code",
   "execution_count": 5,
   "id": "c414622c-305e-45eb-bfba-29445faa17bb",
   "metadata": {},
   "outputs": [],
   "source": [
    "import numpy as py\n",
    "import math, copy\n",
    "import matplotlib.pyplot as plt"
   ]
  },
  {
   "cell_type": "markdown",
   "id": "98757966-f1b4-496e-8c1c-de54a05bf5f0",
   "metadata": {},
   "source": [
    "### Cost function\n",
    "or *loss function*, it is specifically *Squared error cost function* here.\n",
    "$$J(w,b) = \\frac{1}{2m} \\sum\\limits_{i=0}^{m-1} (f_{w,b}(x^{(i)})-y^{(i)})^2\\tag{1}$$\n",
    "### Gradient descent \n",
    "A mathematical method to find the *minimum* value of a function by constantly looking for the *steepest* descent of the function using partial derivatives of its independent variables. The following is **batch gradient descent**, the **batch** means that we take all data points into account.\n",
    "Here is the descending formula, taking $J(w,b)$ a cost function with 2 parameters as example: \n",
    "$$w = w - \\alpha\\frac{\\partial J(w,b)}{\\partial w}\\tag{1}$$\n",
    "$$b = b - \\alpha\\frac{\\partial J(w,b)}{\\partial b}\\tag{2}$$\n",
    "> $\\frac{\\partial J(w,b)}{\\partial w}$ and $\\frac{\\partial J(w,b)}{\\partial b}$ are the slopes pointing **away** from the local minimum.\n",
    "> Be cautious that, the upon are updated simultaneously, be careful when implementing it in code.\n",
    "\n",
    "$$\\frac{\\partial J(w,b)}{\\partial b} = \\frac{1}{m} \\sum\\limits_{i=0}^{m-1}(f_{w,b}(x^{(i)})-y^{(i)})$$\n",
    "$$\\frac{\\partial J(w,b)}{\\partial w} = \\frac{1}{m} \\sum\\limits_{i=0}^{m-1}(f_{w,b}(x^{(i)})-y^{(i)})x^{(i)}$$\n",
    "### Code implementation\n",
    "- implement with 2 variables $w$, $\\beta$.\n",
    "- consist of 3 functions:\n",
    "    - compute cost function *(optional)*\n",
    "    - compute gradient\n",
    "    - gradient descent"
   ]
  },
  {
   "cell_type": "code",
   "execution_count": 35,
   "id": "b83cc052-0293-4d73-b027-981cf81d47b3",
   "metadata": {},
   "outputs": [],
   "source": [
    "def cost_function(x,y,w,b):\n",
    "    m = x.shape[0]\n",
    "    J_x = 0\n",
    "    for i in range(m):    \n",
    "        f_wb = w*x[i] + b \n",
    "        J_x += (y[i] - f_wb) ** 2\n",
    "    J_x = (1/2*m) *(J_x)\n",
    "    return J_x\n",
    "        "
   ]
  },
  {
   "cell_type": "code",
   "execution_count": 36,
   "id": "798ead65-4f50-48b5-9991-c20e108fc87a",
   "metadata": {},
   "outputs": [],
   "source": [
    "def compute_gradient(x,y,w,b):\n",
    "    m = x.shape[0]\n",
    "    dj_db = 0\n",
    "    dj_dw = 0\n",
    "    for i in range(m):\n",
    "        dj_db = dj_db +  (w*x[i]+b -y[i])\n",
    "        dj_dw = dj_dw +  (w*x[i]+b -y[i]) * x[i]\n",
    "    dj_db = 1/m * dj_db\n",
    "    dj_dw = 1/m * dj_dw\n",
    "    return dj_db, dj_dw"
   ]
  },
  {
   "cell_type": "code",
   "execution_count": 37,
   "id": "9137a49b-f4f0-4ff0-83b8-81ccf68c57c3",
   "metadata": {},
   "outputs": [],
   "source": [
    "def gradient_descent(x,y,w_in,b_in,iteration_times=10000, lr=0.1):\n",
    "    m = x.shape[0] \n",
    "    w = copy.deepcopy(w_in)\n",
    "    b = copy.deepcopy(b_in)\n",
    "    for i in range(min(iteration_times, 10000)):\n",
    "        dj_db, dj_dw = compute_gradient(x,y,w,b)\n",
    "        w, b = w - dj_dw * lr, b - dj_db * lr\n",
    "    return w, b"
   ]
  },
  {
   "cell_type": "code",
   "execution_count": 38,
   "id": "3e13b6ee-80c1-4a6e-87ea-84ed92c0e108",
   "metadata": {},
   "outputs": [],
   "source": [
    "def compute_output(x,w,b):\n",
    "    m = x.shape[0]\n",
    "    fwb = py.zeros(m)\n",
    "    for i in range(m):\n",
    "        fwb[i] = w*x[i] + b\n",
    "    return fwb"
   ]
  },
  {
   "cell_type": "markdown",
   "id": "47d72ed7-be2c-4702-af4e-018955af6d43",
   "metadata": {},
   "source": [
    "### Testing"
   ]
  },
  {
   "cell_type": "code",
   "execution_count": 39,
   "id": "ad840c10-b9e7-45db-98a9-62a0e315a767",
   "metadata": {},
   "outputs": [],
   "source": [
    "# initialisation\n",
    "x_train = py.array([1,2,3])\n",
    "y_train = py.array([400,2100,2900])\n",
    "w, b = 0, 0"
   ]
  },
  {
   "cell_type": "code",
   "execution_count": 34,
   "id": "cf826735-35f6-4103-b3ac-3010f0d8ac01",
   "metadata": {},
   "outputs": [
    {
     "data": {
      "image/png": "[encoded data removed]",
      "text/plain": [
       "<Figure size 640x480 with 1 Axes>"
      ]
     },
     "metadata": {},
     "output_type": "display_data"
    }
   ],
   "source": [
    "# find the most regression line\n",
    "w, b = gradient_descent(x_train,y_train,w,b)\n",
    "plt.scatter(x_train, y_train, marker=\"x\", c = \"r\", label = \"Actual values\")\n",
    "plt.plot(x_train,compute_output(x_train,w,b) , c= \"b\",label = \"Prediction\")\n",
    "plt.legend()\n",
    "plt.show()"
   ]
  }
 ],
 "metadata": {
  "kernelspec": {
   "display_name": "Python 3 (ipykernel)",
   "language": "python",
   "name": "python3"
  },
  "language_info": {
   "codemirror_mode": {
    "name": "ipython",
    "version": 3
   },
   "file_extension": ".py",
   "mimetype": "text/x-python",
   "name": "python",
   "nbconvert_exporter": "python",
   "pygments_lexer": "ipython3",
   "version": "3.12.2"
  }
 },
 "nbformat": 4,
 "nbformat_minor": 5
}
